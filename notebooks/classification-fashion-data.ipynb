{
 "cells": [
  {
   "cell_type": "markdown",
   "metadata": {
    "_uuid": "e6b110976674f41c70e5c3ec57f69153acda0fdb"
   },
   "source": [
    "**Part I: Import library and load data**"
   ]
  },
  {
   "cell_type": "code",
   "execution_count": null,
   "metadata": {
    "_cell_guid": "8321b3ea-0b13-b961-5b3b-050e5037c2a1",
    "_uuid": "946bbe0b2f194a3d8905796a90078963f19cfe52"
   },
   "outputs": [],
   "source": [
    "# Data analysis libraries\n",
    "import pandas as pd\n",
    "import numpy as np\n",
    "\n",
    "# Data visualization libraires\n",
    "import seaborn as sns\n",
    "import matplotlib.pyplot as plt\n",
    "\n",
    "# show plot in the notebook\n",
    "%matplotlib inline\n",
    "\n",
    "from sklearn.neighbors import KNeighborsClassifier\n",
    "from sklearn.metrics import accuracy_score"
   ]
  },
  {
   "cell_type": "markdown",
   "metadata": {
    "_uuid": "3bd2939c68298960bfe149b45ecdda92af83820c"
   },
   "source": [
    "**Part II: Check the data information**"
   ]
  },
  {
   "cell_type": "code",
   "execution_count": null,
   "metadata": {},
   "outputs": [],
   "source": [
    "test = pd.read_csv(\"fashion-mnist_test.csv\")\n",
    "train = pd.read_csv(\"fashion-mnist_train.csv\")"
   ]
  },
  {
   "cell_type": "code",
   "execution_count": null,
   "metadata": {},
   "outputs": [],
   "source": [
    "train.head()"
   ]
  },
  {
   "cell_type": "code",
   "execution_count": null,
   "metadata": {
    "_cell_guid": "096c59a9-7815-e28c-439c-59d802ffa664",
    "_uuid": "c957539b946699b7e099f875855baad3523af874"
   },
   "outputs": [],
   "source": [
    "# first five observations\n",
    "test.head()"
   ]
  },
  {
   "cell_type": "code",
   "execution_count": null,
   "metadata": {
    "_cell_guid": "508b1d47-4645-d95f-f196-e87b68656d28",
    "_uuid": "6df13465312259290f51d769fc4bf63081a0334c"
   },
   "outputs": [],
   "source": [
    "# Number of observations and missing values. \n",
    "# There are 150 observations and no nan value\n",
    "test.info()"
   ]
  },
  {
   "cell_type": "markdown",
   "metadata": {
    "_uuid": "e2d84cea6b09c4e1faf681d89f67f0134066ac55"
   },
   "source": [
    "**Part III: Explorary data analysis**"
   ]
  },
  {
   "cell_type": "code",
   "execution_count": null,
   "metadata": {},
   "outputs": [],
   "source": [
    "X_train = pd.DataFrame(train.iloc[:, 1:].values)\n",
    "y_train = pd.DataFrame(train.iloc[:, 0].values)\n",
    "X_test = pd.DataFrame(test.iloc[:, 1:].values)\n",
    "y_test = pd.DataFrame(test.iloc[:, 0].values)"
   ]
  },
  {
   "cell_type": "markdown",
   "metadata": {
    "_uuid": "35f993a87ead7968d9dd9d3ea3cda21c9f138e94"
   },
   "source": [
    "**Part IV: Train a Model**\n",
    "\n"
   ]
  },
  {
   "cell_type": "code",
   "execution_count": null,
   "metadata": {
    "_uuid": "43f4e9bdc1e5d906b6eecccf21b4fa4c511f2b09"
   },
   "outputs": [],
   "source": [
    "knn = KNeighborsClassifier()\n",
    "from sklearn.model_selection import GridSearchCV\n",
    "k_range = list(range(1, 5))\n",
    "param_grid = dict(n_neighbors=k_range)\n",
    "  \n",
    "# defining parameter range\n",
    "grid = GridSearchCV(knn, param_grid, cv=10, scoring='accuracy', return_train_score=False,verbose=1)\n",
    "  \n",
    "# fitting the model for grid search\n",
    "grid_search=grid.fit(X_train, y_train.values.ravel())"
   ]
  },
  {
   "cell_type": "code",
   "execution_count": null,
   "metadata": {},
   "outputs": [],
   "source": [
    "print(grid_search.best_params_)\n",
    "print(grid_search.best_score_)"
   ]
  },
  {
   "cell_type": "markdown",
   "metadata": {},
   "source": [
    "**Part V: Predict**"
   ]
  },
  {
   "cell_type": "code",
   "execution_count": null,
   "metadata": {},
   "outputs": [],
   "source": [
    "knn = KNeighborsClassifier(n_neighbors=26)\n",
    "\n",
    "knn.fit(X_train, y_train.values.ravel())\n",
    "\n",
    "y_test_hat=knn.predict(X_test) \n",
    "\n",
    "test_accuracy=accuracy_score(y_test.values.ravel(),y_test_hat)"
   ]
  },
  {
   "cell_type": "code",
   "execution_count": null,
   "metadata": {},
   "outputs": [],
   "source": [
    "print(test_accuracy)"
   ]
  },
  {
   "cell_type": "code",
   "execution_count": null,
   "metadata": {},
   "outputs": [],
   "source": []
  }
 ],
 "metadata": {
  "_change_revision": 0,
  "_is_fork": false,
  "kernelspec": {
   "display_name": "Python 3 (ipykernel)",
   "language": "python",
   "name": "python3"
  },
  "language_info": {
   "codemirror_mode": {
    "name": "ipython",
    "version": 3
   },
   "file_extension": ".py",
   "mimetype": "text/x-python",
   "name": "python",
   "nbconvert_exporter": "python",
   "pygments_lexer": "ipython3",
   "version": "3.10.6"
  }
 },
 "nbformat": 4,
 "nbformat_minor": 1
}
